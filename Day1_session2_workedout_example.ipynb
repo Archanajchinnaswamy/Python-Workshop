{
  "nbformat": 4,
  "nbformat_minor": 0,
  "metadata": {
    "colab": {
      "name": "Untitled2.ipynb",
      "provenance": [],
      "authorship_tag": "ABX9TyOSuBdVqJWX7un3A8X3Ph60",
      "include_colab_link": true
    },
    "kernelspec": {
      "name": "python3",
      "display_name": "Python 3"
    }
  },
  "cells": [
    {
      "cell_type": "markdown",
      "metadata": {
        "id": "view-in-github",
        "colab_type": "text"
      },
      "source": [
        "<a href=\"https://colab.research.google.com/github/Archanajchinnaswamy/Python-Workshop/blob/master/Day1_session2_workedout_example.ipynb\" target=\"_parent\"><img src=\"https://colab.research.google.com/assets/colab-badge.svg\" alt=\"Open In Colab\"/></a>"
      ]
    },
    {
      "cell_type": "code",
      "metadata": {
        "id": "ku_9eNlL36QM",
        "colab_type": "code",
        "colab": {
          "base_uri": "https://localhost:8080/",
          "height": 84
        },
        "outputId": "f755848f-a4da-45d9-e600-4eb5302ca283"
      },
      "source": [
        "#1.\tFind the compound interest for the given p,n,r  (formula : p(1+n*r/100)n )\n",
        "P=int(input(\"Enter the principal:\"))\n",
        "n=int(input(\"Enter the time period:\"))\n",
        "R=float(input(\"Enter the rate of interest per unit time period:\"))\n",
        "A = P*((1 + (R / 100))**n)\n",
        "CI=A - P\n",
        "print(\"Compound Intrest is:\",CI)"
      ],
      "execution_count": 1,
      "outputs": [
        {
          "output_type": "stream",
          "text": [
            "Enter the principal:1200\n",
            "Enter the time period:2\n",
            "Enter the rate of interest per unit time period:5.4\n",
            "Compound Intrest is: 133.0992000000001\n"
          ],
          "name": "stdout"
        }
      ]
    },
    {
      "cell_type": "code",
      "metadata": {
        "id": "m0bX6Fxl3_cj",
        "colab_type": "code",
        "colab": {
          "base_uri": "https://localhost:8080/",
          "height": 50
        },
        "outputId": "9b9872dd-d212-4303-be2f-89fac4af2120"
      },
      "source": [
        "#2.\tConvert centegrade to farenheit  ( f= 9/5*c+32)\n",
        "c=float(input(\"Enter the value in Centegrade:\"))\n",
        "farenheat=((9/5)*c+32)\n",
        "print(\"the centegrade in farenheat is:\",farenheat)"
      ],
      "execution_count": 2,
      "outputs": [
        {
          "output_type": "stream",
          "text": [
            "Enter the value in Centegrade:37\n",
            "the centegrade in farenheat is: 98.60000000000001\n"
          ],
          "name": "stdout"
        }
      ]
    },
    {
      "cell_type": "code",
      "metadata": {
        "id": "mzENNXyR4H-i",
        "colab_type": "code",
        "colab": {
          "base_uri": "https://localhost:8080/",
          "height": 67
        },
        "outputId": "2902cc6a-b3af-4c8e-9cf3-b26c3e69e1cc"
      },
      "source": [
        "\n",
        "#3.\tFind the greater of two nos \n",
        "num1=input(\"enter the first number:\")\n",
        "num2=input(\"enter the second number:\")\n",
        "print(max(num1,num2))"
      ],
      "execution_count": 3,
      "outputs": [
        {
          "output_type": "stream",
          "text": [
            "enter the first number:5\n",
            "enter the second number:8\n",
            "8\n"
          ],
          "name": "stdout"
        }
      ]
    },
    {
      "cell_type": "code",
      "metadata": {
        "id": "1NgUu1NS4Pbx",
        "colab_type": "code",
        "colab": {
          "base_uri": "https://localhost:8080/",
          "height": 50
        },
        "outputId": "bcaf22ab-aeb4-43cc-b0fb-77ca51c2caef"
      },
      "source": [
        "\n",
        "#4.\tWrite a program for finding surface areas of cylinder and cone (2*PI*r*r*h, 1/3*PI*r*r*h) using function.\n",
        "import math \n",
        "pi = math.pi\n",
        "# Function To Calculate Surface Area of Cone \n",
        "def surfacearea_cone(r, h): \n",
        "    return pi*r*(r+math.sqrt((h**2)+(r**2))) \n",
        "#Function to calculate surface area of cylinder 2πrh+2πr2\n",
        "def surfacearea_cylinder(r, h): \n",
        "    return 2 * pi * r * (r + h)\n",
        "# Driver Code \n",
        "radius = float(5) \n",
        "height = float(12) \n",
        "\n",
        "print( \"Surface are of cone : \", surfacearea_cone(radius, height) ) \n",
        "print( \"Surface Area Of cylinder: \", surfacearea_cylinder(radius,height) )"
      ],
      "execution_count": 4,
      "outputs": [
        {
          "output_type": "stream",
          "text": [
            "Surface are of cone :  282.7433388230814\n",
            "Surface Area Of cylinder:  534.0707511102648\n"
          ],
          "name": "stdout"
        }
      ]
    },
    {
      "cell_type": "code",
      "metadata": {
        "id": "t93ZZY-Q4Uvp",
        "colab_type": "code",
        "colab": {
          "base_uri": "https://localhost:8080/",
          "height": 34
        },
        "outputId": "57bed5a4-fafc-47aa-d508-56f146d4546f"
      },
      "source": [
        "\n",
        "#5.\tFind the greatest of four nos ( using ‘and’ operator)   using function.\n",
        "def greatest(n1,n2,n3,n4):\n",
        "  if (n1>n2 and n1>n3 and n1>n4):\n",
        "    print(\"n1 is greatest\",n1)\n",
        "  elif (n2>n1 and n2>n3 and n2>n4):\n",
        "    print(\"n2 is greate\",n2)\n",
        "  elif (n3>n1 and n3>n2 and n3>n4):\n",
        "    print(\"n3 is greate\",n3)\n",
        "  else:\n",
        "    print(\"n4 is greatest\",n4)\n",
        "    \n",
        "#code\n",
        "num1=10\n",
        "num2=200\n",
        "num3=0\n",
        "num4=35\n",
        "greatest(num1,num2,num3,num4)"
      ],
      "execution_count": 5,
      "outputs": [
        {
          "output_type": "stream",
          "text": [
            "n2 is greate 200\n"
          ],
          "name": "stdout"
        }
      ]
    },
    {
      "cell_type": "code",
      "metadata": {
        "id": "ehBTxR9l4YEc",
        "colab_type": "code",
        "colab": {
          "base_uri": "https://localhost:8080/",
          "height": 1000
        },
        "outputId": "1f87b9cf-01ae-4265-cf07-4ef1e9e489fe"
      },
      "source": [
        "\n",
        "#6.\tWrite a  menu program to perform the operations ( ODDorEven, Factorial, ODDNoUptoN, PrimeUptoN )\n",
        "# using functions for two nos with  menu choice\n",
        "#include<bits/stdc++.h> \n",
        "\n",
        "def odd_even(num):\n",
        "  if num%2==0:\n",
        "    print(\"The number is even\")\n",
        "  else:\n",
        "    print(\"The number is odd\")\n",
        "\n",
        "def fact(num):\n",
        "  fact=1\n",
        "  if num==0:\n",
        "    print(\"Factorial of 0 is 1\")\n",
        "  else:\n",
        "    for i in range(1,num+1):\n",
        "      fact=fact*i\n",
        "    print(\"The factorial of\",num,\"is\",fact)\n",
        "\n",
        "def odd(num):\n",
        "  for i in range(0,num+1):\n",
        "    if (i%2)!=0:\n",
        "      print(i)\n",
        "\n",
        "def prime(num):\n",
        "  for num in range(1, num+1):\n",
        "    if num > 1:\n",
        "       for i in range(2, num):\n",
        "           if (num % i) == 0:\n",
        "               break\n",
        "       else:\n",
        "           print(num)\n",
        "loop=1\n",
        "choice=0\n",
        "while loop == 1:\n",
        "  print (\"Welcome to menu\")\n",
        "  print (\"your options are:\")\n",
        "  print (\" \")\n",
        "  print(\"1) Find odd or even number\")\n",
        "  print(\"2) find factorial\")\n",
        "  print(\"3) find all odd number\")\n",
        "  print(\"4) find prime number\")\n",
        "  print(\"5) exit\")\n",
        "    \n",
        "  print(\" \")\n",
        "  try:\n",
        "    choice = int(input(\"Choose your option: \"))\n",
        "  except:\n",
        "    print('please enter a valid number for option')\n",
        "    print(\" \")\n",
        "    print(\" \")\n",
        "\n",
        "  if choice==1:\n",
        "    number=int(input(\"enter the number:\"))\n",
        "    print(\"Result:\",odd_even(number))\n",
        "  elif choice==2:\n",
        "    number=int(input(\"enter the number:\"))\n",
        "    print(\"Result:\",fact(number))\n",
        "  elif choice==3:\n",
        "    number=int(input(\"enter the number:\"))\n",
        "    print(\"Result:\",odd(number))\n",
        "  elif choice==4:\n",
        "    number=int(input(\"enter the number:\"))\n",
        "    print(\"Result:\",prime(number))\n",
        "  elif choice == 5:\n",
        "    loop = 0\n",
        "     \n",
        "  else:\n",
        "    print(\"please choice a valid option from 1 to 5\")\n",
        "    choice=0"
      ],
      "execution_count": 6,
      "outputs": [
        {
          "output_type": "stream",
          "text": [
            "Welcome to menu\n",
            "your options are:\n",
            " \n",
            "1) Find odd or even number\n",
            "2) find factorial\n",
            "3) find all odd number\n",
            "4) find prime number\n",
            "5) exit\n",
            " \n",
            "Choose your option: 1\n",
            "enter the number:4\n",
            "The number is even\n",
            "Result: None\n",
            "Welcome to menu\n",
            "your options are:\n",
            " \n",
            "1) Find odd or even number\n",
            "2) find factorial\n",
            "3) find all odd number\n",
            "4) find prime number\n",
            "5) exit\n",
            " \n",
            "Choose your option: 2\n",
            "enter the number:5\n",
            "The factorial of 5 is 120\n",
            "Result: None\n",
            "Welcome to menu\n",
            "your options are:\n",
            " \n",
            "1) Find odd or even number\n",
            "2) find factorial\n",
            "3) find all odd number\n",
            "4) find prime number\n",
            "5) exit\n",
            " \n",
            "Choose your option: \n",
            "please enter a valid number for option\n",
            " \n",
            " \n",
            "enter the number:6\n",
            "The factorial of 6 is 720\n",
            "Result: None\n",
            "Welcome to menu\n",
            "your options are:\n",
            " \n",
            "1) Find odd or even number\n",
            "2) find factorial\n",
            "3) find all odd number\n",
            "4) find prime number\n",
            "5) exit\n",
            " \n",
            "Choose your option: 3\n",
            "enter the number:6\n",
            "1\n",
            "3\n",
            "5\n",
            "Result: None\n",
            "Welcome to menu\n",
            "your options are:\n",
            " \n",
            "1) Find odd or even number\n",
            "2) find factorial\n",
            "3) find all odd number\n",
            "4) find prime number\n",
            "5) exit\n",
            " \n",
            "Choose your option: 4\n",
            "enter the number:20\n",
            "2\n",
            "3\n",
            "5\n",
            "7\n",
            "11\n",
            "13\n",
            "17\n",
            "19\n",
            "Result: None\n",
            "Welcome to menu\n",
            "your options are:\n",
            " \n",
            "1) Find odd or even number\n",
            "2) find factorial\n",
            "3) find all odd number\n",
            "4) find prime number\n",
            "5) exit\n",
            " \n",
            "Choose your option: 5\n"
          ],
          "name": "stdout"
        }
      ]
    },
    {
      "cell_type": "code",
      "metadata": {
        "id": "g9YIyIYY4wDK",
        "colab_type": "code",
        "colab": {}
      },
      "source": [
        ""
      ],
      "execution_count": null,
      "outputs": []
    }
  ]
}