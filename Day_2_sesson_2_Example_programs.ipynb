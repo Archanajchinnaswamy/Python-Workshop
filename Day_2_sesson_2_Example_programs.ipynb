{
  "nbformat": 4,
  "nbformat_minor": 0,
  "metadata": {
    "colab": {
      "name": "Untitled5.ipynb",
      "provenance": [],
      "authorship_tag": "ABX9TyNhIe24TaqNGbzu+J1qWF8z",
      "include_colab_link": true
    },
    "kernelspec": {
      "name": "python3",
      "display_name": "Python 3"
    }
  },
  "cells": [
    {
      "cell_type": "markdown",
      "metadata": {
        "id": "view-in-github",
        "colab_type": "text"
      },
      "source": [
        "<a href=\"https://colab.research.google.com/github/Archanajchinnaswamy/Python-Workshop/blob/master/Day_2_sesson_2_Example_programs.ipynb\" target=\"_parent\"><img src=\"https://colab.research.google.com/assets/colab-badge.svg\" alt=\"Open In Colab\"/></a>"
      ]
    },
    {
      "cell_type": "code",
      "metadata": {
        "id": "Covemx-fb4cR",
        "colab_type": "code",
        "colab": {
          "base_uri": "https://localhost:8080/",
          "height": 50
        },
        "outputId": "8c9d980e-5ac7-47b9-dcea-31680b44c342"
      },
      "source": [
        "#dict.clear()\n",
        "#Removes all elements of dictionary dict\n",
        "\n",
        "dict = {'Name': 'Zara', 'Age': 7};\n",
        "print(\"Start Len : %d\" %  len(dict))\n",
        "dict.clear()\n",
        "print(\"End Len : %d\" %  len(dict))"
      ],
      "execution_count": 1,
      "outputs": [
        {
          "output_type": "stream",
          "text": [
            "Start Len : 2\n",
            "End Len : 0\n"
          ],
          "name": "stdout"
        }
      ]
    },
    {
      "cell_type": "code",
      "metadata": {
        "id": "flvQCFuMcCcZ",
        "colab_type": "code",
        "colab": {
          "base_uri": "https://localhost:8080/",
          "height": 34
        },
        "outputId": "8d3de0ac-9bc3-4d1f-8a6d-f17da3849bab"
      },
      "source": [
        "#dict.items()\n",
        "#Returns a list of dict's (key, value) tuple pairs\n",
        "\n",
        "dict = {'Name': 'Zara', 'Age': 7}\n",
        "print (\"Value : %s\" %  dict.items())"
      ],
      "execution_count": 2,
      "outputs": [
        {
          "output_type": "stream",
          "text": [
            "Value : dict_items([('Name', 'Zara'), ('Age', 7)])\n"
          ],
          "name": "stdout"
        }
      ]
    },
    {
      "cell_type": "code",
      "metadata": {
        "id": "yKk_v-rXcG6x",
        "colab_type": "code",
        "colab": {
          "base_uri": "https://localhost:8080/",
          "height": 34
        },
        "outputId": "6873007d-acab-4889-c41d-c20cd9ef5981"
      },
      "source": [
        "# dict.copy()\n",
        "#Returns a copy of dictionary dict\n",
        "\n",
        "dict1 = {'Name': 'Zara', 'Age': 7};\n",
        "dict2 = dict1.copy()\n",
        "print (\"New Dictinary : %s\" %  str(dict2))"
      ],
      "execution_count": 3,
      "outputs": [
        {
          "output_type": "stream",
          "text": [
            "New Dictinary : {'Name': 'Zara', 'Age': 7}\n"
          ],
          "name": "stdout"
        }
      ]
    },
    {
      "cell_type": "code",
      "metadata": {
        "id": "8_DJLNYBcLWi",
        "colab_type": "code",
        "colab": {
          "base_uri": "https://localhost:8080/",
          "height": 50
        },
        "outputId": "f082a8fe-4520-47da-dd0c-1d5a768d9fbf"
      },
      "source": [
        "#Python Program to Generate a Dictionary that Contains Numbers (between 1 and n) in the Form (x,x*x). \n",
        "n=int(input(\"Enter a number:\"))\n",
        "d={x:x*x for x in range(1,n+1)}\n",
        "print(d)"
      ],
      "execution_count": 4,
      "outputs": [
        {
          "output_type": "stream",
          "text": [
            "Enter a number:4\n",
            "{1: 1, 2: 4, 3: 9, 4: 16}\n"
          ],
          "name": "stdout"
        }
      ]
    },
    {
      "cell_type": "code",
      "metadata": {
        "id": "Rn24f-occPLn",
        "colab_type": "code",
        "colab": {
          "base_uri": "https://localhost:8080/",
          "height": 50
        },
        "outputId": "debb3564-db90-4cf9-8d9c-3293776f48ea"
      },
      "source": [
        "#Python Program to Sum All the Items in a Dictionary \n",
        "d={'A':100,'B':540,'C':239}\n",
        "print(\"Total sum of values in the dictionary:\")\n",
        "print(sum(d.values()))"
      ],
      "execution_count": 5,
      "outputs": [
        {
          "output_type": "stream",
          "text": [
            "Total sum of values in the dictionary:\n",
            "879\n"
          ],
          "name": "stdout"
        }
      ]
    },
    {
      "cell_type": "code",
      "metadata": {
        "id": "YtL_5zhTcUgU",
        "colab_type": "code",
        "colab": {
          "base_uri": "https://localhost:8080/",
          "height": 101
        },
        "outputId": "e93d265d-8ca2-48b5-84d4-165fb9ea3ddc"
      },
      "source": [
        "\n",
        "#Python Program to Remove the Given Key from a Dictionary \n",
        "d = {'a':1,'b':2,'c':3,'d':4}\n",
        "print(\"Initial dictionary\")\n",
        "print(d)\n",
        "key=input(\"Enter the key to delete(a-d):\")\n",
        "if key in d: \n",
        "    del d[key]\n",
        "else:\n",
        "    print(\"Key not found!\")\n",
        "    exit(0)\n",
        "print(\"Updated dictionary\")\n",
        "print(d)"
      ],
      "execution_count": 6,
      "outputs": [
        {
          "output_type": "stream",
          "text": [
            "Initial dictionary\n",
            "{'a': 1, 'b': 2, 'c': 3, 'd': 4}\n",
            "Enter the key to delete(a-d):c\n",
            "Updated dictionary\n",
            "{'a': 1, 'b': 2, 'd': 4}\n"
          ],
          "name": "stdout"
        }
      ]
    },
    {
      "cell_type": "code",
      "metadata": {
        "id": "njSgoTBncYOH",
        "colab_type": "code",
        "colab": {
          "base_uri": "https://localhost:8080/",
          "height": 134
        },
        "outputId": "8e2a5125-dcc4-4aa9-a929-41e598466a52"
      },
      "source": [
        "#Python Program to add name and mark as key->value pair in  a Dictionary and print it.\n",
        "n=int(input(\"Enter no of records : \"))\n",
        "d={}\n",
        "for i in range(1,n+1):\n",
        "    name= input(\"Enter name %d : \"%(i))\n",
        "    mark=int(input(\"Enter mark %d : \"%(i)))\n",
        "    d[name]=mark\n",
        "    print (d)"
      ],
      "execution_count": 7,
      "outputs": [
        {
          "output_type": "stream",
          "text": [
            "Enter no of records : 2\n",
            "Enter name 1 : archana\n",
            "Enter mark 1 : 30\n",
            "{'archana': 30}\n",
            "Enter name 2 : jyothi\n",
            "Enter mark 2 : 29\n",
            "{'archana': 30, 'jyothi': 29}\n"
          ],
          "name": "stdout"
        }
      ]
    },
    {
      "cell_type": "code",
      "metadata": {
        "id": "8POQa9LuchEW",
        "colab_type": "code",
        "colab": {
          "base_uri": "https://localhost:8080/",
          "height": 487
        },
        "outputId": "326cf234-707f-4506-ee26-74b94a5922f3"
      },
      "source": [
        "\n",
        "# Keys and Values example\n",
        "d={}\n",
        "print (\" The dictionary elements are\")\n",
        "for i in range(1,21):\n",
        "     d[i]=i**2\n",
        "print (d)\n",
        "# To print key and values\n",
        "print (\" Key==> Value are\")\n",
        "for (k,v) in d.items():\t\n",
        "     print(k,\"==>\",v)\n",
        "# To print key only\n",
        "print (\"\\nTo print key only\")\n",
        "for k in d.keys():\t\n",
        "      print(k, end=\" \")\n",
        "#To print value only\n",
        "print (\"\\nTo print values only\")\n",
        "for v in d.values():\t\n",
        "     print(v, end=\" \")"
      ],
      "execution_count": 8,
      "outputs": [
        {
          "output_type": "stream",
          "text": [
            " The dictionary elements are\n",
            "{1: 1, 2: 4, 3: 9, 4: 16, 5: 25, 6: 36, 7: 49, 8: 64, 9: 81, 10: 100, 11: 121, 12: 144, 13: 169, 14: 196, 15: 225, 16: 256, 17: 289, 18: 324, 19: 361, 20: 400}\n",
            " Key==> Value are\n",
            "1 ==> 1\n",
            "2 ==> 4\n",
            "3 ==> 9\n",
            "4 ==> 16\n",
            "5 ==> 25\n",
            "6 ==> 36\n",
            "7 ==> 49\n",
            "8 ==> 64\n",
            "9 ==> 81\n",
            "10 ==> 100\n",
            "11 ==> 121\n",
            "12 ==> 144\n",
            "13 ==> 169\n",
            "14 ==> 196\n",
            "15 ==> 225\n",
            "16 ==> 256\n",
            "17 ==> 289\n",
            "18 ==> 324\n",
            "19 ==> 361\n",
            "20 ==> 400\n",
            "\n",
            "To print key only\n",
            "1 2 3 4 5 6 7 8 9 10 11 12 13 14 15 16 17 18 19 20 \n",
            "To print values only\n",
            "1 4 9 16 25 36 49 64 81 100 121 144 169 196 225 256 289 324 361 400 "
          ],
          "name": "stdout"
        }
      ]
    },
    {
      "cell_type": "code",
      "metadata": {
        "id": "mKsgi9fOcwhO",
        "colab_type": "code",
        "colab": {
          "base_uri": "https://localhost:8080/",
          "height": 50
        },
        "outputId": "c9d04d6e-e2b8-402a-dfab-c892d6688eb1"
      },
      "source": [
        "\n",
        "d={0:'',1:'one',2:'two',3:'three',4:'four',5:'five',6:'six',7:'seven',8:'eight',9:'nine',\\\n",
        "   10:'ten',11:'eleven',12:'twelve',13:'thirteen',14:'fourteen',15:'fifteen',16:'sixteen',\\\n",
        "   17:'seventeen',18:'eightteen',19:'nineteen',20:'twenty',30:'thirty',40:'fourty',50:'fifty',\\\n",
        "   60:'sixty',70:'seventy',80:'eighty',90:'ninty'}\n",
        "\n",
        "num=int(input(\"Enter the integer between 1 to 99:\"))\n",
        "if (num<=20):\n",
        "      print(d[num])\n",
        "if(num>20 and num<100):\n",
        "        if num%10==0:       \n",
        "            print(d[num])\n",
        "        else:\n",
        "            print(d[num//10*10]+\" \"+d[num%10])"
      ],
      "execution_count": 9,
      "outputs": [
        {
          "output_type": "stream",
          "text": [
            "Enter the integer between 1 to 99:8\n",
            "eight\n"
          ],
          "name": "stdout"
        }
      ]
    },
    {
      "cell_type": "code",
      "metadata": {
        "id": "VUiV4WZWc1bz",
        "colab_type": "code",
        "colab": {
          "base_uri": "https://localhost:8080/",
          "height": 50
        },
        "outputId": "bb59ee21-800e-4d72-9784-01f18b5e55c7"
      },
      "source": [
        "\n",
        "#How to sort a dictionary by values in Python\n",
        "\n",
        "d = {\"Pierre\": 42, \"Anne\": 33, \"Zoe\": 24}\n",
        "#Use the sorted function and operator module\n",
        "import operator\n",
        "sorted_d = sorted(d.items(), key=operator.itemgetter(1))\n",
        "print(sorted_d)\n",
        "sorted_a= sorted(d.items(), key=operator.itemgetter(1),reverse=True)\n",
        "print(sorted_a)"
      ],
      "execution_count": 10,
      "outputs": [
        {
          "output_type": "stream",
          "text": [
            "[('Zoe', 24), ('Anne', 33), ('Pierre', 42)]\n",
            "[('Pierre', 42), ('Anne', 33), ('Zoe', 24)]\n"
          ],
          "name": "stdout"
        }
      ]
    },
    {
      "cell_type": "code",
      "metadata": {
        "id": "OdcgYGoic7Ll",
        "colab_type": "code",
        "colab": {}
      },
      "source": [
        "\n",
        "from google.colab import drive\n",
        "drive.mount('/content/drive')\n",
        "#Python Program to count the number of lines in a text file. \n",
        "file = '/content/drive/My Drive/doc.txt'\n",
        "num_lines = 0\n",
        "with open(file, 'r') as f:\n",
        "  for line in f:\t\n",
        "    num_lines += 1\n",
        "print(\"Number of lines:\")\n",
        "print(num_lines)"
      ],
      "execution_count": null,
      "outputs": []
    },
    {
      "cell_type": "code",
      "metadata": {
        "id": "4d4Ob9Opc-ka",
        "colab_type": "code",
        "colab": {}
      },
      "source": [
        "#Python Program to count the number of lines in a text file. \n",
        "file = 'drive/My Drive/doc.txt'\n",
        "num_words = 0\n",
        "with open(file, 'r') as f:\n",
        "  for line in f:\n",
        "    words = line.split()\n",
        "    print(words)\n",
        "    num_words += len(words)\n",
        "    print(\"Number of words: \",num_words)"
      ],
      "execution_count": null,
      "outputs": []
    },
    {
      "cell_type": "code",
      "metadata": {
        "id": "Ps5FwCsndFff",
        "colab_type": "code",
        "colab": {}
      },
      "source": [
        "\n",
        "#Python Program to count the occurrences of a word in a text file.\n",
        "fname = 'drive/My Drive/doc.txt'\n",
        "word=input(\"Enter word to be searched:\")\n",
        "k = 0\n",
        "\n",
        "with open(fname, 'r') as f:\n",
        "  for line in f:\n",
        "    words = line.split()\n",
        "    for i in words:\n",
        "      if(i==word):\n",
        "        k=k+1\n",
        "  print(\"Occurrences of the word:\",k)"
      ],
      "execution_count": null,
      "outputs": []
    },
    {
      "cell_type": "code",
      "metadata": {
        "id": "bQ8r7PWjdWPQ",
        "colab_type": "code",
        "colab": {}
      },
      "source": [
        "#Python Program to read the contents of the file in reverse order.\n",
        "file = 'drive/My Drive/doc.txt'\n",
        "with open (file,'r') as f:\n",
        "  for line in f:\n",
        "    l=line.split()\n",
        "    l.reverse() \n",
        "    st= \" \".join(l)\n",
        "    print (st)"
      ],
      "execution_count": null,
      "outputs": []
    }
  ]
}